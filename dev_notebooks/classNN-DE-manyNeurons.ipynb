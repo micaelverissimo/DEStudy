{
 "cells": [
  {
   "cell_type": "code",
   "execution_count": 4,
   "metadata": {},
   "outputs": [
    {
     "name": "stderr",
     "output_type": "stream",
     "text": [
      "Using Theano backend.\n",
      "ERROR (theano.gpuarray): Could not initialize pygpu, support disabled\n",
      "Traceback (most recent call last):\n",
      "  File \"/home/micael/anaconda3/envs/CodeLab/lib/python3.6/site-packages/theano/gpuarray/__init__.py\", line 227, in <module>\n",
      "    use(config.device)\n",
      "  File \"/home/micael/anaconda3/envs/CodeLab/lib/python3.6/site-packages/theano/gpuarray/__init__.py\", line 214, in use\n",
      "    init_dev(device, preallocate=preallocate)\n",
      "  File \"/home/micael/anaconda3/envs/CodeLab/lib/python3.6/site-packages/theano/gpuarray/__init__.py\", line 99, in init_dev\n",
      "    **args)\n",
      "  File \"pygpu/gpuarray.pyx\", line 658, in pygpu.gpuarray.init\n",
      "  File \"pygpu/gpuarray.pyx\", line 587, in pygpu.gpuarray.pygpu_init\n",
      "pygpu.gpuarray.GpuArrayException: b'Could not load \"libcuda.so\": libnvidia-fatbinaryloader.so.384.130: cannot open shared object file: No such file or directory'\n"
     ]
    }
   ],
   "source": [
    "import time\n",
    "import numpy as np\n",
    "from keras.models import Sequential\n",
    "from keras.layers import Dense, Activation\n",
    "from sklearn.model_selection import StratifiedKFold\n",
    "\n",
    "def gen_rand(n_size=1):\n",
    "    '''\n",
    "    This function return a n_size-dimensional random vector.\n",
    "    '''\n",
    "    return np.random.random(n_size)\n",
    "\n",
    "class NN_DE(object):\n",
    "    \n",
    "    def __init__(self, n_pop=10, n_neurons=5, F=0.2, Cr=0.9, p=1, change_scheme=True ,scheme='rand',\n",
    "                 bounds=[-1, 1], max_sp_evals=np.int(1e5), sp_tol=1e-2):\n",
    "        #self.n_gens=n_gens\n",
    "        self.n_pop=n_pop\n",
    "        self.n_neurons=n_neurons\n",
    "        self.F=F*np.ones(self.n_pop)\n",
    "        self.Cr=Cr*np.ones(self.n_pop)\n",
    "        self.bounds=bounds\n",
    "        self.p=p\n",
    "        self.scheme=scheme\n",
    "        self.change_schame=change_scheme\n",
    "        self.max_sp_evals=max_sp_evals\n",
    "        self.sp_tol = sp_tol\n",
    "        self.sp_evals=0\n",
    "        self.interactions=0\n",
    "        # Build generic model\n",
    "        model = Sequential()\n",
    "        model.add(Dense(self.n_neurons, input_dim=100, activation='tanh'))\n",
    "        model.add(Dense(1, activation='tanh'))\n",
    "        model.compile( loss='mean_squared_error', optimizer = 'rmsprop', metrics = ['accuracy'] )\n",
    "        self.model=model\n",
    "        self.change_schame=False\n",
    "        self.n_dim=model.count_params()\n",
    "        #self.population=NN_DE.init_population(self, pop_size=self.n_pop,\n",
    "        #                                             dim=self.n_dim, bounds=self.bounds)\n",
    "        #self.train_dataset= train_dataset\n",
    "        #self.test_dataset= test_dataset\n",
    "        \n",
    "    def init_population(self, pop_size, dim, bounds=[-1,1]):\n",
    "        '''\n",
    "        This function initialize the population to be use in DE\n",
    "        Arguments:\n",
    "        pop_size - Number of individuals (there is no default value to this yet.).\n",
    "        dim - dimension of the search space (default is 1).\n",
    "        bounds - The inferior and superior limits respectively (default is [-1, 1]).\n",
    "            '''\n",
    "        return np.random.uniform(low=bounds[0], high=bounds[1], size=(pop_size, dim))\n",
    "\n",
    "    def keep_bounds(self, pop, bounds, idx):\n",
    "        '''\n",
    "        This function keep the population in the seach space\n",
    "        Arguments:\n",
    "        pop - Population;\n",
    "        bounds - The inferior and superior limits respectively\n",
    "        '''\n",
    "        #up_ = np.where(pop>bounds[1])\n",
    "        #down_ = np.where(pop<bounds[1])\n",
    "        #best_ = pop[idx]\n",
    "        #print(pop[pop<bounds[0]])\n",
    "        #print(down_)\n",
    "        #print(best_.shape)\n",
    "        pop[pop<bounds[0]] = bounds[0]; pop[pop>bounds[1]] = bounds[1]\n",
    "        #pop[pop<bounds[0]] = 0.5*(bounds[0]+best_[down_]); pop[pop>bounds[1]] = 0.5*(bounds[1]+best_[up_])\n",
    "        return pop\n",
    "\n",
    "    # Define the Fitness to be used in DE\n",
    "    def sp_fitness(self, target, score):\n",
    "        '''\n",
    "        Calculate the SP index and return the index of the best SP found\n",
    "\n",
    "        Arguments:\n",
    "        target: True labels\n",
    "        score: the predicted labels\n",
    "        '''\n",
    "        from sklearn.metrics import roc_curve\n",
    "\n",
    "        fpr, tpr, thresholds = roc_curve(target, score)\n",
    "        jpr = 1. - fpr\n",
    "        sp = np.sqrt( (tpr  + jpr)*.5 * np.sqrt(jpr*tpr) )\n",
    "        idx = np.argmax(sp)\n",
    "        return sp[idx], tpr[idx], fpr[idx]#sp, idx, sp[idx], tpr[idx], fpr[idx]\n",
    "\n",
    "    def convert_vector_weights(self, pop, nn_model):\n",
    "        \n",
    "        model = nn_model\n",
    "        \n",
    "        generic_weights = model.get_weights()\n",
    "        hl_lim = generic_weights[0].shape[0]*generic_weights[0].shape[1]\n",
    "        \n",
    "        w = []\n",
    "        hl = pop[:hl_lim]\n",
    "        ol = pop[hl_lim+generic_weights[1].shape[0]:hl_lim+generic_weights[1].shape[0]+generic_weights[1].shape[0]] \n",
    "        w.append(hl.reshape(generic_weights[0].shape))\n",
    "        w.append(pop[hl_lim:hl_lim+generic_weights[1].shape[0]])\n",
    "        w.append(ol.reshape(generic_weights[2].shape))\n",
    "        w.append(np.array(pop[-1]).reshape(generic_weights[-1].shape))\n",
    "        \n",
    "        return w\n",
    "        \n",
    "    def set_weights_to_keras_model_and_compute_fitness(self,pop, data, test_data, nn_model):\n",
    "        '''\n",
    "        This function will create a generic model and set the weights to this model and compute the fitness.\n",
    "        Arguments:\n",
    "        pop - The population of weights.\n",
    "        data - The samples to be used to test.\n",
    "        '''\n",
    "        fitness = np.zeros((pop.shape[0],3))\n",
    "        test_fitness = np.zeros((pop.shape[0],3))\n",
    "        model=nn_model\n",
    "        \n",
    "        if pop.shape[0]!= self.n_pop:\n",
    "            #print('Local seach ind...')\n",
    "            w = NN_DE.convert_vector_weights(self, pop=pop, nn_model=model)\n",
    "            model.set_weights(w)\n",
    "            y_score = model.predict(data[0])\n",
    "            fitness = NN_DE.sp_fitness(self, target=data[1], score=y_score)\n",
    "            \n",
    "            # Compute the SP for test in the same calling to minimeze the evals\n",
    "            test_y_score = model.predict(test_data[0])\n",
    "            test_fitness = NN_DE.sp_fitness(self, target=test_data[1], score=test_y_score)\n",
    "            return fitness, test_fitness\n",
    "        \n",
    "        for ind in range(pop.shape[0]):\n",
    "            w = NN_DE.convert_vector_weights(self, pop=pop[ind], nn_model=model)\n",
    "            model.set_weights(w)\n",
    "            y_score = model.predict(data[0])\n",
    "            fitness[ind] = NN_DE.sp_fitness(self, target=data[1], score=y_score)\n",
    "            \n",
    "            # Compute the SP for test in the same calling to minimeze the evals\n",
    "            test_y_score = model.predict(test_data[0])\n",
    "            test_fitness[ind] = NN_DE.sp_fitness(self, target=test_data[1], score=test_y_score)\n",
    "            #print('Population ind: {} - SP: {} - PD: {} - PF: {}'.format(ind, fitness[ind][0], fitness[ind][1], fitness[ind][2]))\n",
    "        return fitness, test_fitness\n",
    "\n",
    "\n",
    "    def evolution(self, train_dataset, test_dataset):\n",
    "        \n",
    "        self.population=NN_DE.init_population(self, pop_size=self.n_pop,\n",
    "                                              dim=self.n_dim, bounds=self.bounds)\n",
    "        r_NNDE = {}\n",
    "        fitness, test_fitness = NN_DE.set_weights_to_keras_model_and_compute_fitness(self, pop=self.population,\n",
    "                                                                       data=train_dataset,\n",
    "                                                                       test_data=test_dataset,\n",
    "                                                                       nn_model=self.model)\n",
    "        best_idx = np.argmax(fitness[:,0])\n",
    "        \n",
    "        # Create the vectors F and Cr to be adapted during the interactions\n",
    "        NF = np.zeros_like(self.F)\n",
    "        NCr = np.zeros_like(self.Cr)\n",
    "        # Create a log\n",
    "        r_NNDE['log'] = []\n",
    "        r_NNDE['log'].append((self.sp_evals, fitness[best_idx], np.mean(fitness, axis=0),\n",
    "                             np.std(fitness, axis=0), np.min(fitness, axis=0), np.median(fitness, axis=0), self.F, self.Cr))\n",
    "\n",
    "        r_NNDE['test_log'] = []\n",
    "        r_NNDE['test_log'].append((self.sp_evals, test_fitness[best_idx], np.mean(test_fitness, axis=0),\n",
    "                             np.std(test_fitness, axis=0), np.min(test_fitness, axis=0), np.median(test_fitness, axis=0), self.F, self.Cr))\n",
    "\n",
    "        while self.sp_evals < self.max_sp_evals:\n",
    "            # ============ Mutation Step ===============\n",
    "            mutant = np.zeros_like(self.population)\n",
    "            for ind in range(self.population.shape[0]):\n",
    "                if gen_rand() < 0.1:\n",
    "                    NF[ind] = 0.2 +0.2*gen_rand()\n",
    "                else:\n",
    "                    NF[ind] = self.F[ind]\n",
    "                tmp_pop = np.delete(self.population, ind, axis=0)\n",
    "                choices = np.random.choice(tmp_pop.shape[0], 1+2*self.p, replace=False)\n",
    "                diffs = 0\n",
    "                for idiff in range(1, len(choices), 2):\n",
    "                    diffs += NF[ind]*((tmp_pop[choices[idiff]]-tmp_pop[choices[idiff+1]]))\n",
    "                    if self.scheme=='rand':\n",
    "                        mutant[ind] = tmp_pop[choices[0]] + diffs\n",
    "                    elif self.scheme=='best':\n",
    "                        mutant[ind] = self.population[best_idx] + diffs\n",
    "            # keep the bounds\n",
    "            mutant = NN_DE.keep_bounds(self, mutant, bounds=[-1,1], idx=best_idx)\n",
    "\n",
    "            # ============ Crossover Step ============= \n",
    "            trial_pop = np.copy(self.population)\n",
    "            K = np.random.choice(trial_pop.shape[1])\n",
    "            for ind in range(trial_pop.shape[0]):\n",
    "                if gen_rand() < 0.1:\n",
    "                    NCr[ind] = 0.8 +0.2*gen_rand()\n",
    "                else:\n",
    "                    NCr[ind] = self.Cr[ind]\n",
    "                for jnd in range(trial_pop.shape[1]):\n",
    "                    if jnd == K or gen_rand()<NCr[ind]:\n",
    "                        trial_pop[ind][jnd] = mutant[ind][jnd]\n",
    "            # keep the bounds\n",
    "            trial_pop = NN_DE.keep_bounds(self, trial_pop, bounds=[-1,1], idx=best_idx)\n",
    "\n",
    "            trial_fitness, test_fitness = NN_DE.set_weights_to_keras_model_and_compute_fitness(self, pop=trial_pop,\n",
    "                                                                                               data=train_dataset,\n",
    "                                                                                               test_data=test_dataset,\n",
    "                                                                                               nn_model=self.model)\n",
    "            self.sp_evals += self.population.shape[0]\n",
    "            \n",
    "            # ============ Selection Step ==============\n",
    "            winners = np.where(trial_fitness[:,0]>fitness[:,0])\n",
    "        \n",
    "            # Auto-adtaptation of F and Cr like NSSDE\n",
    "            self.F[winners] = NF[winners]\n",
    "            self.Cr[winners] = NCr[winners]\n",
    "            \n",
    "            # Greedy Selection\n",
    "            fitness[winners] = trial_fitness[winners]\n",
    "            self.population[winners] = trial_pop[winners]\n",
    "            best_idx = np.argmax(fitness[:,0])\n",
    "            \n",
    "            if self.interactions > 0.95*self.max_sp_evals/self.n_pop:\n",
    "                print('=====Interaction: {}====='.format(self.interactions+1))\n",
    "                print('Best NN found - SP: {} / PD: {} / FA: {}'.format(fitness[best_idx][0],\n",
    "                                                                        fitness[best_idx][1],\n",
    "                                                                        fitness[best_idx][2]))\n",
    "            \n",
    "                print('Test > Mean - SP: {} +- {}'.format(np.mean(test_fitness,axis=0)[0],\n",
    "                                                                    np.std(test_fitness,axis=0)[0]))\n",
    "                \n",
    "            # Local search like NSSDE \n",
    "            a_1 = gen_rand(); a_2 = gen_rand()\n",
    "            a_3 = 1.0 - a_1 - a_2\n",
    "            \n",
    "            k, r1, r2 = np.random.choice(self.population.shape[0], size=3)\n",
    "            V = np.zeros_like(self.population[k])\n",
    "            for jdim in range(self.population.shape[1]):\n",
    "                V[jdim] = a_1*self.population[k][jdim] + a_2*self.population[best_idx][jdim] + a_3*(self.population[r1][jdim] - self.population[r2][jdim])\n",
    "                V = NN_DE.keep_bounds(self, V, bounds=self.bounds, idx=best_idx)\n",
    "            \n",
    "            \n",
    "            V_train_fitness, V_test_fitness = NN_DE.set_weights_to_keras_model_and_compute_fitness(self, pop=V,\n",
    "                                                                                        data=train_dataset,\n",
    "                                                                                        test_data=test_dataset,\n",
    "                                                                                        nn_model=self.model)\n",
    "            \n",
    "            self.sp_evals += 1\n",
    "            if V_train_fitness[0] > fitness[k][0]:\n",
    "                #print('Found best model using local search...')\n",
    "                self.population[k] = V\n",
    "                if V_train_fitness[0] > fitness[best_idx][0]:\n",
    "                    best_idx = k\n",
    "            \n",
    "            # ======== Done interaction ===========\n",
    "            self.interactions += 1\n",
    "            \n",
    "            r_NNDE['log'].append((self.sp_evals, fitness[best_idx], np.mean(fitness, axis=0),\n",
    "                             np.std(fitness, axis=0), np.min(fitness, axis=0), np.median(fitness, axis=0), self.F, self.Cr))\n",
    "            \n",
    "            r_NNDE['test_log'].append((self.sp_evals, test_fitness[best_idx], np.mean(test_fitness, axis=0),\n",
    "                             np.std(test_fitness, axis=0), np.min(test_fitness, axis=0), np.median(test_fitness, axis=0), self.F, self.Cr))\n",
    "            \n",
    "            #print('Fitness: ', fitness[:,0])\n",
    "            #print('Mean: ',np.mean(fitness[:,0]))\n",
    "            if np.abs(np.mean(fitness[:,0])-fitness[best_idx][0])< self.sp_tol:\n",
    "                print('Stop by Mean Criteria...')\n",
    "                break\n",
    "        # Compute the test\n",
    "        #test_fitness = NN_DE.set_weights_to_keras_model_and_compute_fitness(self, pop=self.population,\n",
    "        #                                                               data=self.test_dataset, nn_model=self.model)\n",
    "\n",
    "        r_NNDE['champion weights'] = NN_DE.convert_vector_weights(self, self.population[best_idx], self.model)\n",
    "        r_NNDE['model'] = self.model\n",
    "        r_NNDE['best index'] = best_idx\n",
    "        r_NNDE['Best NN'] = fitness[best_idx]\n",
    "        r_NNDE['train_fitness'] = fitness\n",
    "        r_NNDE['test_fitness'] = test_fitness\n",
    "        r_NNDE['population'] = self.population,\n",
    "        return r_NNDE"
   ]
  },
  {
   "cell_type": "code",
   "execution_count": 5,
   "metadata": {},
   "outputs": [
    {
     "name": "stdout",
     "output_type": "stream",
     "text": [
      "(6988, 100) (6988, 100)\n"
     ]
    }
   ],
   "source": [
    "data = np.load('/home/micael/MyWorkspace/RingerRepresentation/2channels/data17-18_13TeV.sgn_lhmedium_probes.EGAM2.bkg.vetolhvloose.EGAM7.samples.npz')\n",
    "sgn = data['signalPatterns_etBin_2_etaBin_0']\n",
    "bkg = data['backgroundPatterns_etBin_2_etaBin_0']\n",
    "\n",
    "# Equilibrate the classes to make a controled tests\n",
    "bkg = bkg[np.random.choice(bkg.shape[0], size=sgn.shape[0]),:]\n",
    "print(sgn.shape, bkg.shape)\n",
    "\n",
    "sgn_trgt = np.ones(sgn.shape[0])\n",
    "bkg_trgt = -1*np.ones(bkg.shape[0])\n",
    "\n",
    "sgn_normalized = np.zeros_like(sgn)\n",
    "for ind in range(sgn.shape[0]):\n",
    "    sgn_normalized[ind] = sgn[ind]/np.abs(np.sum(sgn[ind]))\n",
    "    \n",
    "bkg_normalized = np.zeros_like(bkg)\n",
    "for ind in range(bkg.shape[0]):\n",
    "    bkg_normalized[ind] = bkg[ind]/np.abs(np.sum(bkg[ind]))\n",
    "\n",
    "data_ = np.append(sgn_normalized, bkg_normalized, axis=0)\n",
    "trgt = np.append(sgn_trgt, bkg_trgt)"
   ]
  },
  {
   "cell_type": "code",
   "execution_count": 6,
   "metadata": {},
   "outputs": [],
   "source": [
    "skf = StratifiedKFold(n_splits=10)"
   ]
  },
  {
   "cell_type": "code",
   "execution_count": 7,
   "metadata": {},
   "outputs": [],
   "source": [
    "CVO = list(skf.split(data_, trgt))"
   ]
  },
  {
   "cell_type": "code",
   "execution_count": 8,
   "metadata": {},
   "outputs": [],
   "source": [
    "def worker(proc_id, result_dict):\n",
    "    print('Work Fold: '+ str(proc_id+1))\n",
    "    train_index, test_index = CVO[proc_id]\n",
    "    return_dict['Fold {}'.format(proc_id+1)] = nn_de.evolution(train_dataset=(data_[train_index], trgt[train_index]),\n",
    "                                                           test_dataset=(data_[test_index], trgt[test_index]))\n",
    "    print('Done Fold: '+ str(proc_id+1))"
   ]
  },
  {
   "cell_type": "code",
   "execution_count": 10,
   "metadata": {},
   "outputs": [
    {
     "name": "stdout",
     "output_type": "stream",
     "text": [
      "Work Fold: 1\n",
      "Work Fold: 3\n",
      "Work Fold: 2\n",
      "Work Fold: 5\n",
      "Work Fold: 4\n",
      "Work Fold: 7\n",
      "Work Fold: 6\n",
      "Work Fold: 9\n",
      "Work Fold: 8\n",
      "Work Fold: 10\n"
     ]
    },
    {
     "name": "stderr",
     "output_type": "stream",
     "text": [
      "INFO (theano.gof.compilelock): Waiting for existing lock by process '20463' (I am process '20473')\n",
      "INFO (theano.gof.compilelock): To manually release the lock, delete /tmp/micael/theano.NOBACKUP/compiledir_Linux-4.4--generic-x86_64-with-debian-stretch-sid-x86_64-3.6.2-64/lock_dir\n",
      "INFO (theano.gof.compilelock): Waiting for existing lock by process '20463' (I am process '20474')\n",
      "INFO (theano.gof.compilelock): Waiting for existing lock by process '20463' (I am process '20489')\n",
      "INFO (theano.gof.compilelock): Waiting for existing lock by process '20463' (I am process '20478')\n",
      "INFO (theano.gof.compilelock): To manually release the lock, delete /tmp/micael/theano.NOBACKUP/compiledir_Linux-4.4--generic-x86_64-with-debian-stretch-sid-x86_64-3.6.2-64/lock_dir\n",
      "INFO (theano.gof.compilelock): Waiting for existing lock by process '20463' (I am process '20492')\n",
      "INFO (theano.gof.compilelock): Waiting for existing lock by process '20463' (I am process '20476')\n",
      "INFO (theano.gof.compilelock): Waiting for existing lock by process '20463' (I am process '20490')\n",
      "INFO (theano.gof.compilelock): To manually release the lock, delete /tmp/micael/theano.NOBACKUP/compiledir_Linux-4.4--generic-x86_64-with-debian-stretch-sid-x86_64-3.6.2-64/lock_dir\n",
      "INFO (theano.gof.compilelock): To manually release the lock, delete /tmp/micael/theano.NOBACKUP/compiledir_Linux-4.4--generic-x86_64-with-debian-stretch-sid-x86_64-3.6.2-64/lock_dir\n",
      "INFO (theano.gof.compilelock): To manually release the lock, delete /tmp/micael/theano.NOBACKUP/compiledir_Linux-4.4--generic-x86_64-with-debian-stretch-sid-x86_64-3.6.2-64/lock_dir\n",
      "INFO (theano.gof.compilelock): To manually release the lock, delete /tmp/micael/theano.NOBACKUP/compiledir_Linux-4.4--generic-x86_64-with-debian-stretch-sid-x86_64-3.6.2-64/lock_dir\n",
      "INFO (theano.gof.compilelock): To manually release the lock, delete /tmp/micael/theano.NOBACKUP/compiledir_Linux-4.4--generic-x86_64-with-debian-stretch-sid-x86_64-3.6.2-64/lock_dir\n"
     ]
    },
    {
     "name": "stdout",
     "output_type": "stream",
     "text": [
      "Stop by Mean Criteria...\n",
      "Done Fold: 3\n"
     ]
    },
    {
     "name": "stderr",
     "output_type": "stream",
     "text": [
      "INFO (theano.gof.compilelock): Waiting for existing lock by process '20473' (I am process '20474')\n",
      "INFO (theano.gof.compilelock): To manually release the lock, delete /tmp/micael/theano.NOBACKUP/compiledir_Linux-4.4--generic-x86_64-with-debian-stretch-sid-x86_64-3.6.2-64/lock_dir\n",
      "INFO (theano.gof.compilelock): Waiting for existing lock by process '20473' (I am process '20478')\n",
      "INFO (theano.gof.compilelock): Waiting for existing lock by process '20473' (I am process '20489')\n",
      "INFO (theano.gof.compilelock): To manually release the lock, delete /tmp/micael/theano.NOBACKUP/compiledir_Linux-4.4--generic-x86_64-with-debian-stretch-sid-x86_64-3.6.2-64/lock_dir\n",
      "INFO (theano.gof.compilelock): Waiting for existing lock by process '20473' (I am process '20492')\n",
      "INFO (theano.gof.compilelock): To manually release the lock, delete /tmp/micael/theano.NOBACKUP/compiledir_Linux-4.4--generic-x86_64-with-debian-stretch-sid-x86_64-3.6.2-64/lock_dir\n",
      "INFO (theano.gof.compilelock): Waiting for existing lock by process '20473' (I am process '20476')\n",
      "INFO (theano.gof.compilelock): Waiting for existing lock by process '20473' (I am process '20490')\n",
      "INFO (theano.gof.compilelock): To manually release the lock, delete /tmp/micael/theano.NOBACKUP/compiledir_Linux-4.4--generic-x86_64-with-debian-stretch-sid-x86_64-3.6.2-64/lock_dir\n",
      "INFO (theano.gof.compilelock): To manually release the lock, delete /tmp/micael/theano.NOBACKUP/compiledir_Linux-4.4--generic-x86_64-with-debian-stretch-sid-x86_64-3.6.2-64/lock_dir\n",
      "INFO (theano.gof.compilelock): To manually release the lock, delete /tmp/micael/theano.NOBACKUP/compiledir_Linux-4.4--generic-x86_64-with-debian-stretch-sid-x86_64-3.6.2-64/lock_dir\n"
     ]
    },
    {
     "name": "stdout",
     "output_type": "stream",
     "text": [
      "Stop by Mean Criteria...\n",
      "Done Fold: 2\n"
     ]
    },
    {
     "name": "stderr",
     "output_type": "stream",
     "text": [
      "INFO (theano.gof.compilelock): Waiting for existing lock by process '20474' (I am process '20489')\n",
      "INFO (theano.gof.compilelock): Waiting for existing lock by process '20474' (I am process '20478')\n",
      "INFO (theano.gof.compilelock): To manually release the lock, delete /tmp/micael/theano.NOBACKUP/compiledir_Linux-4.4--generic-x86_64-with-debian-stretch-sid-x86_64-3.6.2-64/lock_dir\n",
      "INFO (theano.gof.compilelock): Waiting for existing lock by process '20474' (I am process '20476')\n",
      "INFO (theano.gof.compilelock): Waiting for existing lock by process '20474' (I am process '20492')\n",
      "INFO (theano.gof.compilelock): To manually release the lock, delete /tmp/micael/theano.NOBACKUP/compiledir_Linux-4.4--generic-x86_64-with-debian-stretch-sid-x86_64-3.6.2-64/lock_dir\n",
      "INFO (theano.gof.compilelock): To manually release the lock, delete /tmp/micael/theano.NOBACKUP/compiledir_Linux-4.4--generic-x86_64-with-debian-stretch-sid-x86_64-3.6.2-64/lock_dir\n",
      "INFO (theano.gof.compilelock): Waiting for existing lock by process '20474' (I am process '20490')\n",
      "INFO (theano.gof.compilelock): To manually release the lock, delete /tmp/micael/theano.NOBACKUP/compiledir_Linux-4.4--generic-x86_64-with-debian-stretch-sid-x86_64-3.6.2-64/lock_dir\n",
      "INFO (theano.gof.compilelock): To manually release the lock, delete /tmp/micael/theano.NOBACKUP/compiledir_Linux-4.4--generic-x86_64-with-debian-stretch-sid-x86_64-3.6.2-64/lock_dir\n"
     ]
    },
    {
     "name": "stdout",
     "output_type": "stream",
     "text": [
      "Stop by Mean Criteria...\n",
      "Done Fold: 4\n"
     ]
    },
    {
     "name": "stderr",
     "output_type": "stream",
     "text": [
      "INFO (theano.gof.compilelock): Waiting for existing lock by process '20489' (I am process '20476')\n",
      "INFO (theano.gof.compilelock): To manually release the lock, delete /tmp/micael/theano.NOBACKUP/compiledir_Linux-4.4--generic-x86_64-with-debian-stretch-sid-x86_64-3.6.2-64/lock_dir\n",
      "INFO (theano.gof.compilelock): Waiting for existing lock by process '20489' (I am process '20492')\n",
      "INFO (theano.gof.compilelock): Waiting for existing lock by process '20489' (I am process '20478')\n",
      "INFO (theano.gof.compilelock): To manually release the lock, delete /tmp/micael/theano.NOBACKUP/compiledir_Linux-4.4--generic-x86_64-with-debian-stretch-sid-x86_64-3.6.2-64/lock_dir\n",
      "INFO (theano.gof.compilelock): Waiting for existing lock by process '20489' (I am process '20490')\n",
      "INFO (theano.gof.compilelock): To manually release the lock, delete /tmp/micael/theano.NOBACKUP/compiledir_Linux-4.4--generic-x86_64-with-debian-stretch-sid-x86_64-3.6.2-64/lock_dir\n",
      "INFO (theano.gof.compilelock): To manually release the lock, delete /tmp/micael/theano.NOBACKUP/compiledir_Linux-4.4--generic-x86_64-with-debian-stretch-sid-x86_64-3.6.2-64/lock_dir\n"
     ]
    },
    {
     "name": "stdout",
     "output_type": "stream",
     "text": [
      "Stop by Mean Criteria...\n",
      "Done Fold: 1\n"
     ]
    },
    {
     "name": "stderr",
     "output_type": "stream",
     "text": [
      "INFO (theano.gof.compilelock): Waiting for existing lock by process '20476' (I am process '20478')\n",
      "INFO (theano.gof.compilelock): To manually release the lock, delete /tmp/micael/theano.NOBACKUP/compiledir_Linux-4.4--generic-x86_64-with-debian-stretch-sid-x86_64-3.6.2-64/lock_dir\n",
      "INFO (theano.gof.compilelock): Waiting for existing lock by process '20476' (I am process '20490')\n",
      "INFO (theano.gof.compilelock): Waiting for existing lock by process '20476' (I am process '20492')\n",
      "INFO (theano.gof.compilelock): To manually release the lock, delete /tmp/micael/theano.NOBACKUP/compiledir_Linux-4.4--generic-x86_64-with-debian-stretch-sid-x86_64-3.6.2-64/lock_dir\n",
      "INFO (theano.gof.compilelock): To manually release the lock, delete /tmp/micael/theano.NOBACKUP/compiledir_Linux-4.4--generic-x86_64-with-debian-stretch-sid-x86_64-3.6.2-64/lock_dir\n"
     ]
    },
    {
     "name": "stdout",
     "output_type": "stream",
     "text": [
      "Stop by Mean Criteria...\n",
      "Done Fold: 8\n"
     ]
    },
    {
     "name": "stderr",
     "output_type": "stream",
     "text": [
      "INFO (theano.gof.compilelock): Waiting for existing lock by process '20478' (I am process '20490')\n",
      "INFO (theano.gof.compilelock): Waiting for existing lock by process '20478' (I am process '20492')\n",
      "INFO (theano.gof.compilelock): To manually release the lock, delete /tmp/micael/theano.NOBACKUP/compiledir_Linux-4.4--generic-x86_64-with-debian-stretch-sid-x86_64-3.6.2-64/lock_dir\n",
      "INFO (theano.gof.compilelock): To manually release the lock, delete /tmp/micael/theano.NOBACKUP/compiledir_Linux-4.4--generic-x86_64-with-debian-stretch-sid-x86_64-3.6.2-64/lock_dir\n"
     ]
    },
    {
     "name": "stdout",
     "output_type": "stream",
     "text": [
      "Stop by Mean Criteria...\n",
      "Done Fold: 6\n",
      "Stop by Mean Criteria...\n",
      "Done Fold: 5\n"
     ]
    },
    {
     "name": "stderr",
     "output_type": "stream",
     "text": [
      "INFO (theano.gof.compilelock): Waiting for existing lock by process '20490' (I am process '20492')\n",
      "INFO (theano.gof.compilelock): To manually release the lock, delete /tmp/micael/theano.NOBACKUP/compiledir_Linux-4.4--generic-x86_64-with-debian-stretch-sid-x86_64-3.6.2-64/lock_dir\n"
     ]
    },
    {
     "name": "stdout",
     "output_type": "stream",
     "text": [
      "Stop by Mean Criteria...\n",
      "Done Fold: 10\n",
      "Stop by Mean Criteria...\n",
      "Done Fold: 7\n",
      "Stop by Mean Criteria...\n",
      "Done Fold: 9\n",
      "Neuron: 5 | Demorou - 79.9147686958313 segundos\n",
      "Work Fold: 1\n",
      "Work Fold: 2\n",
      "Work Fold: 3\n",
      "Work Fold: 4\n",
      "Work Fold: 6\n",
      "Work Fold: 5\n",
      "Work Fold: 7\n",
      "Work Fold: 10\n",
      "Work Fold: 8\n",
      "Work Fold: 9\n",
      "Stop by Mean Criteria...\n",
      "Done Fold: 7\n",
      "Stop by Mean Criteria...\n",
      "Done Fold: 5\n",
      "Stop by Mean Criteria...\n",
      "Done Fold: 10\n",
      "Stop by Mean Criteria...\n",
      "Done Fold: 8\n",
      "Stop by Mean Criteria...\n",
      "Done Fold: 9\n",
      "Stop by Mean Criteria...\n",
      "Done Fold: 2\n",
      "Stop by Mean Criteria...\n",
      "Done Fold: 6\n",
      "Stop by Mean Criteria...\n",
      "Done Fold: 1\n",
      "Stop by Mean Criteria...\n",
      "Done Fold: 3\n",
      "Stop by Mean Criteria...\n",
      "Done Fold: 4\n",
      "Neuron: 6 | Demorou - 107.03001356124878 segundos\n",
      "Work Fold: 1\n",
      "Work Fold: 2\n",
      "Work Fold: 3\n",
      "Work Fold: 4\n",
      "Work Fold: 5\n",
      "Work Fold: 6\n",
      "Work Fold: 9\n",
      "Work Fold: 8\n",
      "Work Fold: 7\n",
      "Work Fold: 10\n",
      "Stop by Mean Criteria...\n",
      "Done Fold: 7\n",
      "Stop by Mean Criteria...\n",
      "Done Fold: 3\n",
      "Stop by Mean Criteria...\n",
      "Done Fold: 9\n",
      "Stop by Mean Criteria...\n",
      "Done Fold: 2\n",
      "Stop by Mean Criteria...\n",
      "Done Fold: 8\n",
      "Stop by Mean Criteria...\n",
      "Done Fold: 1\n",
      "Stop by Mean Criteria...\n",
      "Done Fold: 10\n",
      "Stop by Mean Criteria...\n",
      "Done Fold: 5\n",
      "Stop by Mean Criteria...\n",
      "Done Fold: 6\n",
      "Stop by Mean Criteria...\n",
      "Done Fold: 4\n",
      "Neuron: 7 | Demorou - 140.68526887893677 segundos\n",
      "Work Fold: 1\n",
      "Work Fold: 2\n",
      "Work Fold: 4\n",
      "Work Fold: 3\n",
      "Work Fold: 5\n",
      "Work Fold: 7\n",
      "Work Fold: 6\n",
      "Work Fold: 9\n",
      "Work Fold: 8\n",
      "Work Fold: 10\n",
      "Stop by Mean Criteria...\n",
      "Done Fold: 9\n",
      "Stop by Mean Criteria...\n",
      "Stop by Mean Criteria...\n",
      "Done Fold: 4\n",
      "Done Fold: 8\n",
      "Stop by Mean Criteria...\n",
      "Done Fold: 10\n",
      "Stop by Mean Criteria...\n",
      "Done Fold: 1\n",
      "Stop by Mean Criteria...\n",
      "Done Fold: 7\n",
      "Stop by Mean Criteria...\n",
      "Done Fold: 6\n",
      "Stop by Mean Criteria...\n",
      "Done Fold: 5\n",
      "Stop by Mean Criteria...\n",
      "Done Fold: 2\n",
      "Stop by Mean Criteria...\n",
      "Done Fold: 3\n",
      "Neuron: 8 | Demorou - 80.25355672836304 segundos\n",
      "Work Fold: 2\n",
      "Work Fold: 1\n",
      "Work Fold: 3\n",
      "Work Fold: 5\n",
      "Work Fold: 4\n",
      "Work Fold: 6\n",
      "Work Fold: 8\n",
      "Work Fold: 7\n",
      "Work Fold: 9\n",
      "Work Fold: 10\n",
      "Stop by Mean Criteria...\n",
      "Done Fold: 6\n",
      "Stop by Mean Criteria...\n",
      "Done Fold: 3\n",
      "Stop by Mean Criteria...\n",
      "Done Fold: 2\n",
      "Stop by Mean Criteria...\n",
      "Done Fold: 9\n",
      "Stop by Mean Criteria...\n",
      "Done Fold: 7\n",
      "Stop by Mean Criteria...\n",
      "Done Fold: 8\n",
      "Stop by Mean Criteria...\n",
      "Done Fold: 10\n",
      "Stop by Mean Criteria...\n",
      "Done Fold: 1\n",
      "Stop by Mean Criteria...\n",
      "Done Fold: 5\n",
      "Stop by Mean Criteria...\n",
      "Done Fold: 4\n",
      "Neuron: 9 | Demorou - 164.67061114311218 segundos\n",
      "Work Fold: 1\n",
      "Work Fold: 3\n",
      "Work Fold: 2\n",
      "Work Fold: 4\n",
      "Work Fold: 5\n",
      "Work Fold: 7\n",
      "Work Fold: 6\n",
      "Work Fold: 8\n",
      "Work Fold: 9\n",
      "Work Fold: 10\n",
      "Stop by Mean Criteria...\n",
      "Done Fold: 8\n",
      "Stop by Mean Criteria...\n",
      "Done Fold: 9\n",
      "Stop by Mean Criteria...\n",
      "Done Fold: 6\n",
      "Stop by Mean Criteria...\n",
      "Done Fold: 1\n",
      "Stop by Mean Criteria...\n",
      "Done Fold: 4\n",
      "Stop by Mean Criteria...\n",
      "Done Fold: 3\n",
      "Stop by Mean Criteria...\n",
      "Done Fold: 2\n",
      "Stop by Mean Criteria...\n",
      "Done Fold: 5\n",
      "Stop by Mean Criteria...\n",
      "Done Fold: 7\n",
      "Stop by Mean Criteria...\n",
      "Done Fold: 10\n",
      "Neuron: 10 | Demorou - 148.2910556793213 segundos\n",
      "CPU times: user 2.32 s, sys: 536 ms, total: 2.85 s\n",
      "Wall time: 12min\n"
     ]
    }
   ],
   "source": [
    "%%time\n",
    "import multiprocessing\n",
    "\n",
    "all_results = {}\n",
    "for ineuron in range(5, 11):\n",
    "    inicio = time.time()\n",
    "    nn_de = NN_DE(n_pop=20, n_neurons=ineuron, max_sp_evals=2e3, scheme='rand', sp_tol=1e-3)\n",
    "    manager = multiprocessing.Manager()\n",
    "    return_dict = manager.dict()\n",
    "    jobs = []\n",
    "    for ifold in range(len(CVO)):\n",
    "        p = multiprocessing.Process(target=worker, args=(ifold,return_dict))\n",
    "        jobs.append(p)\n",
    "        p.start()\n",
    "\n",
    "    for proc in jobs:\n",
    "        proc.join()\n",
    "\n",
    "    \n",
    "    return_dict = dict(return_dict)\n",
    "    fim=time.time()\n",
    "    print('Neuron: {} | Demorou - {} segundos'.format(ineuron, fim-inicio))\n",
    "    return_dict['elapsed_time'] = fim-inicio\n",
    "    all_results[ineuron] = return_dict\n",
    "#print('Demorou - {} segundos'.format(fim-inicio))"
   ]
  },
  {
   "cell_type": "code",
   "execution_count": 17,
   "metadata": {},
   "outputs": [
    {
     "data": {
      "text/plain": [
       "dict_keys(['Fold 7', 'Fold 5', 'Fold 10', 'Fold 8', 'Fold 9', 'Fold 2', 'Fold 6', 'Fold 1', 'Fold 3', 'Fold 4', 'elapsed_time'])"
      ]
     },
     "execution_count": 17,
     "metadata": {},
     "output_type": "execute_result"
    }
   ],
   "source": [
    "all_results[6].keys()"
   ]
  },
  {
   "cell_type": "code",
   "execution_count": 40,
   "metadata": {},
   "outputs": [],
   "source": [
    "train_time = []\n",
    "for ineuron in all_results.keys():\n",
    "    train_time.append(all_results[ineuron]['elapsed_time'])"
   ]
  },
  {
   "cell_type": "code",
   "execution_count": 44,
   "metadata": {},
   "outputs": [
    {
     "data": {
      "image/png": "[encoded data removed]",
      "text/plain": [
       "<matplotlib.figure.Figure at 0x7f8802c2ffd0>"
      ]
     },
     "metadata": {},
     "output_type": "display_data"
    }
   ],
   "source": [
    "import matplotlib.pyplot as plt\n",
    "plt.style.use('_classic_test')\n",
    "\n",
    "plt.figure(figsize=(10, 8))\n",
    "plt.plot(np.arange(5, 11), train_time, '--', c='g')\n",
    "plt.title('Elapsed time using DE', fontsize=22)\n",
    "plt.xlabel('# Neurons', fontsize=20)\n",
    "plt.ylabel('Time (s)',  fontsize=20)\n",
    "plt.grid()\n",
    "plt.savefig('Elapsed_time.pdf')\n",
    "plt.savefig('Elapsed_time.png', dpi=150)\n",
    "plt.show()"
   ]
  },
  {
   "cell_type": "code",
   "execution_count": 19,
   "metadata": {},
   "outputs": [
    {
     "name": "stdout",
     "output_type": "stream",
     "text": [
      "5\n",
      "Fold 3 > [ 0.89412933  0.89842632  0.11015737]\n",
      "Fold 2 > [ 0.87764028  0.88984263  0.13447783]\n",
      "Fold 4 > [ 0.86889715  0.89556509  0.15736767]\n",
      "Fold 1 > [ 0.92270186  0.93562232  0.09012876]\n",
      "Fold 8 > [ 0.89484964  0.89413448  0.10443491]\n",
      "Fold 6 > [ 0.85908068  0.85550787  0.13733906]\n",
      "Fold 5 > [ 0.90676113  0.93705293  0.1230329 ]\n",
      "Fold 10 > [ 0.88063188  0.92120344  0.15902579]\n",
      "Fold 7 > [ 0.91340731  0.92560801  0.09871245]\n",
      "Fold 9 > [ 0.92548757  0.93266476  0.08166189]\n",
      "Neuron: 5 - SP/PD/FA: [ 89.4359  90.8563  11.9634] +- [ 2.1564  2.494   2.5675]\n",
      "6\n",
      "Fold 7 > [ 0.90905335  0.92846924  0.11015737]\n",
      "Fold 5 > [ 0.90367248  0.94563662  0.13733906]\n",
      "Fold 10 > [ 0.92903325  0.94269341  0.08452722]\n",
      "Fold 8 > [ 0.92472324  0.94992847  0.10014306]\n",
      "Fold 9 > [ 0.92611678  0.94555874  0.09312321]\n",
      "Fold 2 > [ 0.92770416  0.94134478  0.08583691]\n",
      "Fold 6 > [ 0.91628542  0.92560801  0.09298999]\n",
      "Fold 1 > [ 0.92193032  0.94134478  0.09728183]\n",
      "Fold 3 > [ 0.92554112  0.94134478  0.09012876]\n",
      "Fold 4 > [ 0.9241104   0.93991416  0.09155937]\n",
      "Neuron: 6 - SP/PD/FA: [ 92.0817  94.0184   9.8309] +- [ 0.8035  0.7167  1.4769]\n",
      "7\n",
      "Fold 7 > [ 0.91123391  0.92703863  0.10443491]\n",
      "Fold 3 > [ 0.92832813  0.95135908  0.0944206 ]\n",
      "Fold 9 > [ 0.91969043  0.93696275  0.0974212 ]\n",
      "Fold 2 > [ 0.91773949  0.91702432  0.08154506]\n",
      "Fold 8 > [ 0.92344533  0.93133047  0.08440629]\n",
      "Fold 1 > [ 0.92542886  0.95135908  0.10014306]\n",
      "Fold 10 > [ 0.93548565  0.94842407  0.0773639 ]\n",
      "Fold 5 > [ 0.91272351  0.91845494  0.09298999]\n",
      "Fold 6 > [ 0.91823202  0.94706724  0.11015737]\n",
      "Fold 4 > [ 0.93347516  0.93133047  0.06437768]\n",
      "Neuron: 7 - SP/PD/FA: [ 92.2578  93.6035   9.0726] +- [ 0.777   1.2415  1.3095]\n",
      "8\n",
      "Fold 9 > [ 0.90298125  0.93696275  0.13037249]\n",
      "Fold 4 > [ 0.90844063  0.90844063  0.09155937]\n",
      "Fold 8 > [ 0.88540283  0.90844063  0.13733906]\n",
      "Fold 10 > [ 0.89468179  0.9025788   0.11318052]\n",
      "Fold 1 > [ 0.90125973  0.91130186  0.10872675]\n",
      "Fold 7 > [ 0.89341788  0.89556509  0.10872675]\n",
      "Fold 6 > [ 0.88983343  0.88412017  0.10443491]\n",
      "Fold 5 > [ 0.90943004  0.94992847  0.13018598]\n",
      "Fold 2 > [ 0.9320149   0.94277539  0.07868383]\n",
      "Fold 3 > [ 0.91865197  0.96280401  0.12446352]\n",
      "Neuron: 8 - SP/PD/FA: [ 90.3611  92.0292  11.2767] +- [ 1.3421  2.4626  1.7515]\n",
      "9\n",
      "Fold 6 > [ 0.89627341  0.89127325  0.09871245]\n",
      "Fold 3 > [ 0.91625861  0.92989986  0.09728183]\n",
      "Fold 2 > [ 0.91845271  0.91559371  0.07868383]\n",
      "Fold 9 > [ 0.89475227  0.94412607  0.15329513]\n",
      "Fold 7 > [ 0.90054824  0.89127325  0.09012876]\n",
      "Fold 8 > [ 0.90625391  0.91845494  0.10586552]\n",
      "Fold 10 > [ 0.91819503  0.94126074  0.10458453]\n",
      "Fold 1 > [ 0.92341208  0.93705293  0.09012876]\n",
      "Fold 5 > [ 0.9174818   0.94849785  0.1130186 ]\n",
      "Fold 4 > [ 0.92558811  0.9341917   0.08297568]\n",
      "Neuron: 9 - SP/PD/FA: [ 91.1722  92.5162  10.1468] +- [ 1.073   1.9601  1.998 ]\n",
      "10\n",
      "Fold 8 > [ 0.91344652  0.91130186  0.08440629]\n",
      "Fold 9 > [ 0.91756012  0.93266476  0.0974212 ]\n",
      "Fold 6 > [ 0.87481752  0.87839771  0.12875536]\n",
      "Fold 1 > [ 0.91505619  0.95994278  0.12875536]\n",
      "Fold 4 > [ 0.91987164  0.92703863  0.08726753]\n",
      "Fold 3 > [ 0.92377353  0.96280401  0.11444921]\n",
      "Fold 2 > [ 0.93337648  0.9527897   0.08583691]\n",
      "Fold 5 > [ 0.91620723  0.93562232  0.10300429]\n",
      "Fold 7 > [ 0.91552608  0.93133047  0.10014306]\n",
      "Fold 10 > [ 0.94024298  0.97421203  0.09312321]\n",
      "Neuron: 10 - SP/PD/FA: [ 91.6988  93.661   10.2316] +- [ 1.6314  2.6592  1.5741]\n"
     ]
    }
   ],
   "source": [
    "r = {}\n",
    "for ineuron in all_results.keys():\n",
    "    print(ineuron)\n",
    "    r[ineuron] = []\n",
    "    for ifold in all_results[ineuron].keys():\n",
    "        if ifold == 'elapsed_time':\n",
    "            continue\n",
    "        print(ifold, '>', all_results[ineuron][ifold]['test_fitness'][all_results[ineuron][ifold]['best index']])\n",
    "        r[ineuron].append(all_results[ineuron][ifold]['test_fitness'][all_results[ineuron][ifold]['best index']])\n",
    "    print('Neuron: {} - SP/PD/FA: {} +- {}'.format(ineuron, np.around(100*np.mean(r[ineuron], axis=0),4), np.around(100*np.std(r[ineuron], axis=0),4)))"
   ]
  },
  {
   "cell_type": "code",
   "execution_count": null,
   "metadata": {},
   "outputs": [],
   "source": [
    "r_ = {}\n",
    "for ifold in return_dict.keys():\n",
    "    print(len(return_dict[ifold]['log']))\n",
    "    checks = list(range(0,len(return_dict[ifold]['log'])))\n",
    "    r_[ifold]={}\n",
    "    r_[ifold]['train'] = []\n",
    "    r_[ifold]['test'] = []\n",
    "    for icheck in checks:\n",
    "        #print(ifold, '>', return_dict[ifold]['log'][icheck][2])\n",
    "        r_[ifold]['train'].append(return_dict[ifold]['log'][icheck][2])\n",
    "        r_[ifold]['test'].append(return_dict[ifold]['test_log'][icheck][2])"
   ]
  },
  {
   "cell_type": "code",
   "execution_count": null,
   "metadata": {},
   "outputs": [],
   "source": [
    "np.array(r_['Fold 1']['train'])[:,0]"
   ]
  },
  {
   "cell_type": "code",
   "execution_count": null,
   "metadata": {},
   "outputs": [],
   "source": [
    "merits = {\n",
    "    'SP'  : 'SP Index',\n",
    "    'PD'  : 'PD',\n",
    "    'FA'  : 'FA'\n",
    "}"
   ]
  },
  {
   "cell_type": "code",
   "execution_count": null,
   "metadata": {},
   "outputs": [],
   "source": [
    "import matplotlib.pyplot as plt\n",
    "plt.style.use('_classic_test')\n",
    "\n",
    "folds = ['Fold 1', 'Fold 2', 'Fold 3', 'Fold 4', 'Fold 5', 'Fold 6', 'Fold 7', 'Fold 8', 'Fold 9', 'Fold 10']\n",
    "#x_axis = np.array([0., 20, 100, 1000,2000,3000, 4000, 5000, 6000, 7000, 8000, 9000, 10000])\n",
    "\n",
    "for idx, imerit in enumerate(merits.keys()):\n",
    "    print('Plot: ', imerit)\n",
    "    f, (ax1, ax2) = plt.subplots(1, 2, sharey=False, figsize=(15,5))\n",
    "    for ifold in folds:\n",
    "\n",
    "        ax1.plot(np.array(r_[ifold]['train'])[:,idx], label=ifold)\n",
    "        ax1.legend(fontsize='large', loc='best')\n",
    "        ax1.set_title(merits[imerit]+' - Train', fontsize=15)\n",
    "        ax1.set_xlabel('Interactions', fontsize=10)\n",
    "        ax1.set_ylabel('Mean '+merits[imerit], fontsize=10)\n",
    "        ax1.grid(True)\n",
    "\n",
    "        ax2.plot(np.array(r_[ifold]['test'])[:,idx], label=ifold)\n",
    "        ax2.legend(fontsize='large', loc='best')\n",
    "        ax2.set_title(merits[imerit]+' - Test', fontsize=15)\n",
    "        ax2.set_xlabel('Interactions', fontsize=10)\n",
    "        ax2.set_ylabel('Mean '+merits[imerit], fontsize=10)\n",
    "        ax2.grid(True)\n",
    "    plt.savefig(merits[imerit]+'.rand1bin.2000evals.withLS.MeanStopCriteria.pdf',)\n",
    "    plt.savefig(merits[imerit]+'.rand1bin.2000evals.withLS.MeanStopCriteria.png', dpi=150)\n",
    "    plt.show()"
   ]
  },
  {
   "cell_type": "code",
   "execution_count": null,
   "metadata": {},
   "outputs": [],
   "source": [
    "print(type(return_dict))\n",
    "return_dict = dict(return_dict)\n",
    "print(type(return_dict))"
   ]
  },
  {
   "cell_type": "code",
   "execution_count": null,
   "metadata": {},
   "outputs": [],
   "source": [
    "return_dict.keys()"
   ]
  },
  {
   "cell_type": "code",
   "execution_count": null,
   "metadata": {},
   "outputs": [],
   "source": [
    "return_dict['CVO'] = CVO"
   ]
  },
  {
   "cell_type": "code",
   "execution_count": null,
   "metadata": {},
   "outputs": [],
   "source": [
    "return_dict['CVO']"
   ]
  },
  {
   "cell_type": "code",
   "execution_count": 45,
   "metadata": {},
   "outputs": [],
   "source": [
    "import pickle\n",
    "\n",
    "with open('nnde.5-10neurons.rand1bin.2000evals.withLS.MeanStopCriteria.pickle', 'wb') as handle:\n",
    "    pickle.dump(all_results, handle, protocol=pickle.HIGHEST_PROTOCOL)"
   ]
  },
  {
   "cell_type": "markdown",
   "metadata": {},
   "source": [
    "# Here begin the Backpropagation\n",
    "\n",
    "Steps:\n",
    "\n",
    "1. Get the champions and set the model.\n",
    "2. Fit the model in each fold.\n",
    "3. Get the results."
   ]
  },
  {
   "cell_type": "code",
   "execution_count": null,
   "metadata": {},
   "outputs": [],
   "source": [
    "number_of_epoch = 100"
   ]
  },
  {
   "cell_type": "code",
   "execution_count": null,
   "metadata": {},
   "outputs": [],
   "source": [
    "%%time\n",
    "for i in range(number_of_epoch):\n",
    "    pass"
   ]
  },
  {
   "cell_type": "code",
   "execution_count": null,
   "metadata": {},
   "outputs": [],
   "source": [
    "return_dict['Fold 1'].keys()"
   ]
  },
  {
   "cell_type": "code",
   "execution_count": null,
   "metadata": {},
   "outputs": [],
   "source": [
    "return_dict['Fold 1']['champion weights']"
   ]
  },
  {
   "cell_type": "code",
   "execution_count": null,
   "metadata": {},
   "outputs": [],
   "source": [
    "import time\n",
    "inicio = time.time()\n",
    "nn_de = NN_DE(n_pop=20, max_sp_evals=1e4, scheme='rand')\n",
    "resultado = {}\n",
    "for ifold, (train_index, test_index) in enumerate(CVO):\n",
    "    print(\"TRAIN:\", train_index, \"TEST:\", test_index, \"Fold: \", ifold)\n",
    "    resultado['Fold {}'.format(ifold+1)] = nn_de.evolution(train_dataset=(data_[train_index], trgt[train_index]),\n",
    "                                                           test_dataset=(data_[test_index], trgt[test_index]))\n",
    "fim=time.time()\n",
    "\n",
    "print('Demorou - {} segundos'.format(fim-inicio))"
   ]
  },
  {
   "cell_type": "code",
   "execution_count": null,
   "metadata": {},
   "outputs": [],
   "source": [
    "resultado['Fold 1']"
   ]
  },
  {
   "cell_type": "code",
   "execution_count": null,
   "metadata": {},
   "outputs": [],
   "source": [
    "resultado = {}\n",
    "for train_index, test_index in skf.split(data_, trgt):\n",
    "    print(\"TRAIN:\", train_index, \"TEST:\", test_index)\n",
    "    "
   ]
  },
  {
   "cell_type": "code",
   "execution_count": null,
   "metadata": {},
   "outputs": [],
   "source": [
    "teste = NN_DE(n_pop=20,max_sp_evals=2e3, scheme='rand', sp_tol=0.1)"
   ]
  },
  {
   "cell_type": "code",
   "execution_count": null,
   "metadata": {},
   "outputs": [],
   "source": [
    "ev = teste.evolution(train_dataset=(data_, trgt), test_dataset=(data_, trgt))"
   ]
  },
  {
   "cell_type": "code",
   "execution_count": null,
   "metadata": {},
   "outputs": [],
   "source": [
    "ev.keys()"
   ]
  },
  {
   "cell_type": "code",
   "execution_count": null,
   "metadata": {},
   "outputs": [],
   "source": [
    "ev['log'][-1]"
   ]
  },
  {
   "cell_type": "code",
   "execution_count": null,
   "metadata": {},
   "outputs": [],
   "source": [
    "np.mean(ev['fitness'],axis=0), np.std(ev['fitness'], axis=0)"
   ]
  },
  {
   "cell_type": "code",
   "execution_count": null,
   "metadata": {},
   "outputs": [],
   "source": [
    "np.argmin(ev['fitness'][:,0]), ev['best index']"
   ]
  },
  {
   "cell_type": "code",
   "execution_count": null,
   "metadata": {},
   "outputs": [],
   "source": [
    "ev['fitness'][ev['best index']], ev['fitness'][np.argmin(ev['fitness'][:,0])]"
   ]
  }
 ],
 "metadata": {
  "kernelspec": {
   "display_name": "Python 3",
   "language": "python",
   "name": "python3"
  },
  "language_info": {
   "codemirror_mode": {
    "name": "ipython",
    "version": 3
   },
   "file_extension": ".py",
   "mimetype": "text/x-python",
   "name": "python",
   "nbconvert_exporter": "python",
   "pygments_lexer": "ipython3",
   "version": "3.6.2"
  }
 },
 "nbformat": 4,
 "nbformat_minor": 2
}
