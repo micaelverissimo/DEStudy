{
 "cells": [
  {
   "cell_type": "code",
   "execution_count": 1,
   "metadata": {},
   "outputs": [],
   "source": [
    "import numpy as np\n",
    "import pandas as pd\n",
    "import pygmo as pg\n",
    "import matplotlib.pyplot as plt\n",
    "plt.style.use('classic')\n",
    "import pickle \n",
    "\n",
    "import sys\n",
    "sys.path.append('/home/micael/MyWorkspace/DEStudy/algorithms')\n",
    "from NSSDE import *"
   ]
  },
  {
   "cell_type": "code",
   "execution_count": 2,
   "metadata": {},
   "outputs": [],
   "source": [
    "problems = {\n",
    "    1    :    100,\n",
    "    2    :    200,\n",
    "    6    :    600,\n",
    "    7    :    700,\n",
    "    9    :    900,\n",
    "    14    :    1400\n",
    "}"
   ]
  },
  {
   "cell_type": "code",
   "execution_count": 3,
   "metadata": {},
   "outputs": [],
   "source": [
    "ndim = 10\n",
    "popsize = 50"
   ]
  },
  {
   "cell_type": "code",
   "execution_count": null,
   "metadata": {},
   "outputs": [
    {
     "name": "stdout",
     "output_type": "stream",
     "text": [
      "Begin problem number: 1\n",
      "Begin problem number: 2\n",
      "Begin problem number: 6\n"
     ]
    }
   ],
   "source": [
    "results_10 = {}\n",
    "for iproblem in problems.keys():\n",
    "    print 'Begin problem number: {}'.format(iproblem)\n",
    "    results_10['problem {}'.format(iproblem)]= {}\n",
    "    prob = pg.problem(pg.cec2014(prob_id=iproblem, dim=ndim))\n",
    "    for irun in range(51):\n",
    "        #print 'Begin run number: {}'.format(irun+1)\n",
    "        results_10['problem {}'.format(iproblem)][irun+1] = {}\n",
    "        nssde = NSSDE(bounds=[-100, 100],\n",
    "                      n_dim=ndim,\n",
    "                      n_pop=popsize,\n",
    "                      global_max=problems[iproblem], fitness=prob.fitness)\n",
    "        results_10['problem {}'.format(iproblem)][irun+1]['Evolution']= nssde.evolution()"
   ]
  },
  {
   "cell_type": "code",
   "execution_count": null,
   "metadata": {},
   "outputs": [],
   "source": [
    "results_10['problem 1'][1]['Evolution']['log'][-1]"
   ]
  },
  {
   "cell_type": "code",
   "execution_count": null,
   "metadata": {},
   "outputs": [],
   "source": [
    "#with open('results_10dim_51runs_NSSDE.pickle', 'wb') as handle:\n",
    "#    pickle.dump(results_10, handle, protocol=pickle.HIGHEST_PROTOCOL)"
   ]
  },
  {
   "cell_type": "code",
   "execution_count": null,
   "metadata": {},
   "outputs": [],
   "source": [
    "for iproblem in results_10.keys():\n",
    "    print(iproblem)\n",
    "    print(results_10[iproblem][1]['Evolution']['log'][-1])"
   ]
  },
  {
   "cell_type": "code",
   "execution_count": null,
   "metadata": {},
   "outputs": [],
   "source": [
    "ndim = 30\n",
    "popsize = 100"
   ]
  },
  {
   "cell_type": "code",
   "execution_count": null,
   "metadata": {},
   "outputs": [],
   "source": [
    "results_30 = {}\n",
    "for iproblem in problems.keys():\n",
    "    print 'Begin problem number: {}'.format(iproblem)\n",
    "    results_30['problem {}'.format(iproblem)]= {}\n",
    "    prob = pg.problem(pg.cec2014(prob_id=iproblem, dim=ndim))\n",
    "    for irun in range(51):\n",
    "        #print 'Begin run number: {}'.format(irun+1)\n",
    "        results_10['problem {}'.format(iproblem)][irun+1] = {}\n",
    "        nssde = NSSDE(bounds=[-100, 100],\n",
    "                      n_dim=ndim,\n",
    "                      n_pop=popsize,\n",
    "                      global_max=problems[iproblem], fitness=prob.fitness)\n",
    "        results_30['problem {}'.format(iproblem)][irun+1]['Evolution']= nssde.evolution()"
   ]
  },
  {
   "cell_type": "code",
   "execution_count": null,
   "metadata": {},
   "outputs": [],
   "source": [
    "results_30['problem 1'][1]['Evolution']['log'][-1]"
   ]
  },
  {
   "cell_type": "code",
   "execution_count": null,
   "metadata": {},
   "outputs": [],
   "source": [
    "#with open('results_30dim_51runs_NSSDE.pickle', 'wb') as handle:\n",
    "#    pickle.dump(results_30, handle, protocol=pickle.HIGHEST_PROTOCOL)"
   ]
  }
 ],
 "metadata": {
  "kernelspec": {
   "display_name": "Python 2",
   "language": "python",
   "name": "python2"
  },
  "language_info": {
   "codemirror_mode": {
    "name": "ipython",
    "version": 2
   },
   "file_extension": ".py",
   "mimetype": "text/x-python",
   "name": "python",
   "nbconvert_exporter": "python",
   "pygments_lexer": "ipython2",
   "version": "2.7.12"
  }
 },
 "nbformat": 4,
 "nbformat_minor": 2
}
