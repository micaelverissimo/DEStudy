{
 "cells": [
  {
   "cell_type": "code",
   "execution_count": 1,
   "metadata": {},
   "outputs": [],
   "source": [
    "import numpy as np\n",
    "import pygmo as pg"
   ]
  },
  {
   "cell_type": "code",
   "execution_count": 50,
   "metadata": {},
   "outputs": [],
   "source": [
    "a =np.array([1, 2, 3])"
   ]
  },
  {
   "cell_type": "code",
   "execution_count": 54,
   "metadata": {},
   "outputs": [
    {
     "data": {
      "text/plain": [
       "(14, array([1, 4, 9]))"
      ]
     },
     "execution_count": 54,
     "metadata": {},
     "output_type": "execute_result"
    }
   ],
   "source": [
    "np.sum(a**2), a**2"
   ]
  },
  {
   "cell_type": "code",
   "execution_count": 55,
   "metadata": {},
   "outputs": [],
   "source": [
    "def Sphere(array1D):\n",
    "    return np.sum(array1D**2)"
   ]
  },
  {
   "cell_type": "code",
   "execution_count": 68,
   "metadata": {},
   "outputs": [],
   "source": [
    "function = pg.problem(pg.ackley( dim=30))"
   ]
  },
  {
   "cell_type": "code",
   "execution_count": 70,
   "metadata": {},
   "outputs": [],
   "source": [
    "def Ackley(array1D):\n",
    "    return function.fitness(array1D)"
   ]
  },
  {
   "cell_type": "code",
   "execution_count": 1,
   "metadata": {},
   "outputs": [
    {
     "ename": "NameError",
     "evalue": "name 'test_fitness' is not defined",
     "output_type": "error",
     "traceback": [
      "\u001b[0;31m---------------------------------------------------------------------------\u001b[0m",
      "\u001b[0;31mNameError\u001b[0m                                 Traceback (most recent call last)",
      "\u001b[0;32m<ipython-input-1-52fa7ccc8034>\u001b[0m in \u001b[0;36m<module>\u001b[0;34m()\u001b[0m\n\u001b[1;32m      5\u001b[0m     \u001b[0;32mreturn\u001b[0m \u001b[0mnp\u001b[0m\u001b[0;34m.\u001b[0m\u001b[0mrandom\u001b[0m\u001b[0;34m.\u001b[0m\u001b[0mrandom\u001b[0m\u001b[0;34m(\u001b[0m\u001b[0mn_size\u001b[0m\u001b[0;34m)\u001b[0m\u001b[0;34m\u001b[0m\u001b[0m\n\u001b[1;32m      6\u001b[0m \u001b[0;34m\u001b[0m\u001b[0m\n\u001b[0;32m----> 7\u001b[0;31m \u001b[0;32mclass\u001b[0m \u001b[0mNSSDE\u001b[0m\u001b[0;34m(\u001b[0m\u001b[0mobject\u001b[0m\u001b[0;34m)\u001b[0m\u001b[0;34m:\u001b[0m\u001b[0;34m\u001b[0m\u001b[0m\n\u001b[0m\u001b[1;32m      8\u001b[0m \u001b[0;34m\u001b[0m\u001b[0m\n\u001b[1;32m      9\u001b[0m     def __init__(self, n_gens=10000, n_pop=100, n_dim=30, F=0.8, Cr=0.9,\n",
      "\u001b[0;32m<ipython-input-1-52fa7ccc8034>\u001b[0m in \u001b[0;36mNSSDE\u001b[0;34m()\u001b[0m\n\u001b[1;32m      8\u001b[0m \u001b[0;34m\u001b[0m\u001b[0m\n\u001b[1;32m      9\u001b[0m     def __init__(self, n_gens=10000, n_pop=100, n_dim=30, F=0.8, Cr=0.9,\n\u001b[0;32m---> 10\u001b[0;31m                  bounds=[-15, 30], scheme='rand/p/bin', p=1, global_max= 200., MaxEF=None, fitness=test_fitness):\n\u001b[0m\u001b[1;32m     11\u001b[0m         \u001b[0mself\u001b[0m\u001b[0;34m.\u001b[0m\u001b[0mn_gens\u001b[0m\u001b[0;34m=\u001b[0m\u001b[0mn_gens\u001b[0m\u001b[0;34m\u001b[0m\u001b[0m\n\u001b[1;32m     12\u001b[0m         \u001b[0mself\u001b[0m\u001b[0;34m.\u001b[0m\u001b[0mn_pop\u001b[0m\u001b[0;34m=\u001b[0m\u001b[0mn_pop\u001b[0m\u001b[0;34m\u001b[0m\u001b[0m\n",
      "\u001b[0;31mNameError\u001b[0m: name 'test_fitness' is not defined"
     ]
    }
   ],
   "source": [
    "def gen_rand(n_size=1):\n",
    "    '''\n",
    "    This function return a n_size-dimensional random vector.\n",
    "    '''\n",
    "    return np.random.random(n_size)\n",
    "\n",
    "class NSSDE(object):\n",
    "    \n",
    "    def __init__(self, n_gens=10000, n_pop=100, n_dim=30, F=0.8, Cr=0.9,\n",
    "                 bounds=[-15, 30], scheme='rand/p/bin', p=1, global_max= 200., MaxEF=None, fitness=test_fitness):\n",
    "        self.n_gens=n_gens\n",
    "        self.n_pop=n_pop\n",
    "        self.n_dim=n_dim\n",
    "        self.F=F\n",
    "        self.Cr=Cr\n",
    "        self.bounds=bounds\n",
    "        self.scheme=scheme\n",
    "        self.p=p\n",
    "        self.population=NSSDE.init_population(self, pop_size=self.n_pop,\n",
    "                                                     dim=self.n_dim, bounds=self.bounds)\n",
    "        self.fitness=fitness\n",
    "        if MaxEF==None:\n",
    "            self.MaxEF= 10000*self.n_dim\n",
    "        else:\n",
    "            self.MaxEF=MaxEF\n",
    "        self.F_evals = 0\n",
    "        self.global_max = global_max\n",
    "        \n",
    "    def get_F(self):\n",
    "        return self.F\n",
    "    def get_Cr(self):\n",
    "        return self.Cr\n",
    "    def get_p(self):\n",
    "        return self.p\n",
    "    def get_fitness(self):\n",
    "        return self.fitness\n",
    "    def get_scheme(self):\n",
    "        return self.scheme\n",
    "    def get_n_gens(self):\n",
    "        return self.n_gens\n",
    "    def get_bounds(self):\n",
    "        return self.bounds\n",
    "    def get_population(self):\n",
    "        return self.population\n",
    "\n",
    "    def init_population(self, pop_size, dim, bounds):\n",
    "        '''\n",
    "        This function initialize the population to be use in DE\n",
    "        Arguments:\n",
    "        pop_size - Number of individuals (there is no default value to this yet.).\n",
    "        dim - dimension of the search space (default is 1).\n",
    "        bounds - The inferior and superior limits respectively (default is [-100, 100]).\n",
    "        '''\n",
    "        return np.random.uniform(low=bounds[0], high=bounds[1], size=(pop_size, dim))\n",
    "\n",
    "    def keep_bounds(self, pop, bounds):\n",
    "        '''\n",
    "        This function keep the population in the seach space\n",
    "        Arguments:\n",
    "        pop - Population;\n",
    "        bounds - The inferior and superior limits respectively\n",
    "        '''\n",
    "        pop[pop<bounds[0]] = bounds[0]; pop[pop>bounds[1]] = bounds[1]\n",
    "        return pop\n",
    "    \n",
    "    def evolution(self):\n",
    "        r_info = {}\n",
    "        # ============ Evaluate the initial population ============\n",
    "        pop_fitness = np.zeros(self.population.shape[0])\n",
    "        for ind in range(self.population.shape[0]):\n",
    "            pop_fitness[ind] = self.fitness(self.population[ind])\n",
    "        best_idx = np.argmin(pop_fitness)\n",
    "        r_info['log'] = []\n",
    "        r_info['log'].append((self.F_evals, pop_fitness[best_idx], np.mean(pop_fitness),\n",
    "                              np.std(pop_fitness), np.max(pop_fitness), np.median(pop_fitness),self.F, self.Cr))\n",
    "        \n",
    "        while self.F_evals < self.MaxEF: \n",
    "            mutant = np.zeros_like(self.population)\n",
    "            trial_pop = np.copy(self.population)\n",
    "            trial_fitness = np.zeros(trial_pop.shape[0])\n",
    "            \n",
    "            for ind in range(self.population.shape[0]):\n",
    "                \n",
    "                # ============ Adapt F and Cr ============\n",
    "                NF = np.copy(self.F)\n",
    "                NCr = np.copy(self.Cr)\n",
    "                if gen_rand() < 0.1:\n",
    "                    NF = 0.2 +0.2*gen_rand()\n",
    "                    NCr = 0.8 +0.2*gen_rand()\n",
    "                # ============ Mutation Step ============\n",
    "                tmp_pop = np.delete(self.population, ind, axis=0)\n",
    "                choices = np.random.choice(tmp_pop.shape[0], 1+2*self.p, replace=False)\n",
    "                diffs = 0\n",
    "                for idiff in range(1, len(choices), 2):\n",
    "                    diffs += NF*((tmp_pop[choices[idiff]]-tmp_pop[choices[idiff+1]]))\n",
    "                mutant[ind] = tmp_pop[choices[0]] + diffs\n",
    "                # keep the bounds\n",
    "                mutant = NSSDE.keep_bounds(self, mutant, bounds=self.bounds)\n",
    "            \n",
    "                # ============ Crossover Step ============               \n",
    "                K = np.random.choice(trial_pop.shape[1])\n",
    "                for jnd in range(trial_pop.shape[1]):\n",
    "                    if jnd == K or gen_rand()<NCr:\n",
    "                        trial_pop[ind][jnd] = mutant[ind][jnd]\n",
    "                # keep the bounds\n",
    "                trial_pop = NSSDE.keep_bounds(self, trial_pop, bounds=self.bounds)\n",
    "            \n",
    "                trial_fitness[ind] = self.fitness(trial_pop[ind])\n",
    "                self.F_evals += 1\n",
    "                if self.F_evals > self.MaxEF-1:\n",
    "                    r_info['Population'] = self.population\n",
    "                    r_info['Fitness'] = pop_fitness\n",
    "                    r_info['Champion'] = pop_fitness[best_idx]\n",
    "                    r_info['Champion Index'] = best_idx\n",
    "                    r_info['Function Evals'] = self.F_evals\n",
    "                    return r_info\n",
    "                    \n",
    "                # ============ Selection ============\n",
    "                if trial_fitness[ind] < pop_fitness[ind]:\n",
    "                    self.population[ind] = trial_pop[ind]\n",
    "                    pop_fitness[ind] = trial_fitness[ind]\n",
    "                    self.F = NF\n",
    "                    self.Cr = NCr\n",
    "                    if trial_fitness[ind] < pop_fitness[best_idx]:\n",
    "                        best_idx = ind\n",
    "                # Save Log\n",
    "                r_info['log'].append((self.F_evals, pop_fitness[best_idx], np.mean(pop_fitness),\n",
    "                              np.std(pop_fitness), np.max(pop_fitness), np.median(pop_fitness),self.F, self.Cr))\n",
    "            # ========== Local Search =============\n",
    "            a_1 = gen_rand(); a_2 = gen_rand()\n",
    "            a_3 = 1.0 - a_1 - a_2\n",
    "            \n",
    "            k, r1, r2 = np.random.choice(self.population.shape[0], size=3)\n",
    "            V = np.zeros_like(self.population[k])\n",
    "            for jdim in range(self.population.shape[1]):\n",
    "                V[jdim] = a_1*self.population[k][jdim] + a_2*self.population[best_idx][jdim] + a_3*(self.population[r1][jdim] - self.population[r2][jdim])\n",
    "                V = NSSDE.keep_bounds(self, V, bounds=self.bounds)\n",
    "\n",
    "            self.F_evals += 1\n",
    "            F_V = self.fitness(V)\n",
    "            if F_V < pop_fitness[k]:\n",
    "                self.population[k] = V\n",
    "                pop_fitness[k] = F_V\n",
    "                if F_V < pop_fitness[best_idx]:\n",
    "                    best_idx = k\n",
    "            # Save Log\n",
    "            r_info['log'].append((self.F_evals, pop_fitness[best_idx], np.mean(pop_fitness),\n",
    "                                 np.std(pop_fitness), np.max(pop_fitness), np.median(pop_fitness),self.F, self.Cr))\n",
    "            # Check the stop criteria\n",
    "            if np.abs(pop_fitness[best_idx] - self.global_max)<1e-6:\n",
    "                print('Stop criteria... ')\n",
    "                r_info['Population'] = self.population\n",
    "                r_info['Fitness'] = pop_fitness\n",
    "                r_info['Champion'] = pop_fitness[best_idx]\n",
    "                r_info['Champion Index'] = best_idx\n",
    "                r_info['Function Evals'] = self.F_evals\n",
    "                return r_info\n",
    "\n",
    "        r_info['Population'] = self.population\n",
    "        r_info['Fitness'] = pop_fitness\n",
    "        r_info['Champion'] = pop_fitness[best_idx]\n",
    "        r_info['Champion Index'] = best_idx\n",
    "        r_info['Function Evals'] = self.F_evals\n",
    "        return r_info\n",
    "             "
   ]
  },
  {
   "cell_type": "code",
   "execution_count": 71,
   "metadata": {},
   "outputs": [],
   "source": [
    "max_ef = int(1e5)"
   ]
  },
  {
   "cell_type": "code",
   "execution_count": 73,
   "metadata": {},
   "outputs": [],
   "source": [
    "DE = NSSDE(bounds=[-32, 32], global_max=0.0, MaxEF=max_ef, fitness=Ackley)"
   ]
  },
  {
   "cell_type": "code",
   "execution_count": 74,
   "metadata": {},
   "outputs": [
    {
     "name": "stdout",
     "output_type": "stream",
     "text": [
      "Stop criteria... \n"
     ]
    }
   ],
   "source": [
    "ev = DE.evolution()"
   ]
  },
  {
   "cell_type": "code",
   "execution_count": 75,
   "metadata": {},
   "outputs": [
    {
     "data": {
      "text/plain": [
       "['Champion',\n",
       " 'Champion Index',\n",
       " 'Function Evals',\n",
       " 'Fitness',\n",
       " 'Population',\n",
       " 'log']"
      ]
     },
     "execution_count": 75,
     "metadata": {},
     "output_type": "execute_result"
    }
   ],
   "source": [
    "ev.keys()"
   ]
  },
  {
   "cell_type": "code",
   "execution_count": 76,
   "metadata": {},
   "outputs": [
    {
     "data": {
      "text/plain": [
       "(28179,\n",
       " 8.7608353682711027e-07,\n",
       " 1.5057179817468126e-06,\n",
       " 1.6397971261611096e-07,\n",
       " 1.8919652977622547e-06,\n",
       " 1.5163041031662772e-06,\n",
       " array([ 0.37465135]),\n",
       " array([ 0.95224257]))"
      ]
     },
     "execution_count": 76,
     "metadata": {},
     "output_type": "execute_result"
    }
   ],
   "source": [
    "ev['log'][-1]"
   ]
  },
  {
   "cell_type": "code",
   "execution_count": null,
   "metadata": {},
   "outputs": [],
   "source": [
    "DE.binomial_crossover(tm,Cr=0.2, p=2, F=0.5)"
   ]
  },
  {
   "cell_type": "code",
   "execution_count": null,
   "metadata": {},
   "outputs": [],
   "source": [
    "arra1 = np.array([0.1, .2, .3])\n",
    "arra2 = np.array([0.02, .1, .6])\n",
    "\n",
    "onde_ = np.where(arra2<arra1)\n",
    "\n",
    "final_array = arra1\n",
    "print(final_array)\n",
    "final_array[onde_] = arra2[onde_]\n",
    "print(final_array)"
   ]
  },
  {
   "cell_type": "code",
   "execution_count": null,
   "metadata": {},
   "outputs": [],
   "source": [
    "DE.gen_rand()"
   ]
  },
  {
   "cell_type": "code",
   "execution_count": null,
   "metadata": {},
   "outputs": [],
   "source": [
    "DE.get_Cr(), DE.get_bounds()"
   ]
  },
  {
   "cell_type": "code",
   "execution_count": null,
   "metadata": {},
   "outputs": [],
   "source": [
    "def gen_rand(n_size=1):\n",
    "    '''\n",
    "    This function return a n_size-dimensional random vector.\n",
    "    '''\n",
    "    return np.random.random(n_size)\n",
    "\n",
    "def init_population(pop_size, dim=1, bounds=[-100,100]):\n",
    "    '''\n",
    "    This function initialize the population to be use in DE\n",
    "    Arguments:\n",
    "    pop_size - Number of individuals (there is no default value to this yet.).\n",
    "    dim - dimension of the search space (default is 1).\n",
    "    bounds - The inferior and superior limits respectively (default is [-100, 100]).\n",
    "    '''\n",
    "    return np.random.uniform(low=bounds[0], high=bounds[1], size=(pop_size, dim))\n",
    "\n",
    "def keep_bounds(pop, bounds=[-10, 10]):\n",
    "    '''\n",
    "    This function keep the population in the seach space\n",
    "    Arguments:\n",
    "    pop - Population;\n",
    "    bounds - The inferior and superior limits respectively\n",
    "    '''\n",
    "    pop[pop<bounds[0]] = bounds[0]; pop[pop>bounds[1]] = bounds[1]\n",
    "    return pop\n",
    "\n",
    "def rand_p(pop, p=1, F=0.7):\n",
    "    '''\n",
    "    This function is the rand/p mutation scheme, this is a generalization of rand/1 mutation scheme\n",
    "     from the first DE paper (Storn and Price).\n",
    "    Arguments:\n",
    "    pop - Population;\n",
    "    p - Number of diferences to be used;\n",
    "    F - The F scale factor for the diferences (default is 0.7);\n",
    "    '''\n",
    "    \n",
    "    choices = np.random.choice(pop.shape[0], 1+2*p, replace=False)\n",
    "    diffs = 0\n",
    "    for idiff in range(1, len(choices), 2):\n",
    "        diffs += F*((pop[choices[idiff]]-pop[choices[idiff+1]]))\n",
    "    return pop[choices[0]] + diffs\n",
    "\n",
    "def binomial_crossover(pop, Cr=0.5, mutation_type=rand_p, **kwargs):\n",
    "    '''\n",
    "    This function make the binomial crossover.\n",
    "    Arguments:\n",
    "    pop - Population;\n",
    "    mutation_type - mutation scheme (default is ran_p);\n",
    "    **kwargs - This is relative to the mutation scheme ex. rand_p needs p and F.\n",
    "    '''\n",
    "    \n",
    "    K = np.random.choice(pop.shape[1])\n",
    "    for ind in range(tmp.shape[0]):\n",
    "        mutant = mutation_type(pop, **kwargs)\n",
    "        for jnd in range(tmp.shape[1]):\n",
    "            if jnd == K or gen_rand()<Cr:\n",
    "                tmp[ind][jnd] = mutant[jnd]\n",
    "    return pop"
   ]
  },
  {
   "cell_type": "code",
   "execution_count": null,
   "metadata": {},
   "outputs": [],
   "source": [
    "tmp = init_population(10, dim=5, bounds=[-5, 5])\n",
    "tmp"
   ]
  },
  {
   "cell_type": "code",
   "execution_count": null,
   "metadata": {},
   "outputs": [],
   "source": [
    "binomial_crossover(tmp,Cr=0.2, mutation_type=rand_p, p=2, F=0.5)"
   ]
  },
  {
   "cell_type": "code",
   "execution_count": null,
   "metadata": {},
   "outputs": [],
   "source": [
    "rand_p(pop=tmp, p=1, F=0.2)"
   ]
  },
  {
   "cell_type": "code",
   "execution_count": null,
   "metadata": {},
   "outputs": [],
   "source": [
    "K = np.random.choice(tmp.shape[1])\n",
    "K"
   ]
  },
  {
   "cell_type": "code",
   "execution_count": null,
   "metadata": {},
   "outputs": [],
   "source": [
    "print(tmp)\n",
    "for ind in range(tmp.shape[0]):\n",
    "    mutant = rand_p(tmp, p=1, F=0.5)\n",
    "    for jnd in range(tmp.shape[1]):\n",
    "        if jnd == K or gen_rand()<0.6:\n",
    "            #print(tmp[ind][jnd])\n",
    "            tmp[ind][jnd] = mutant[jnd]\n",
    "tmp"
   ]
  },
  {
   "cell_type": "code",
   "execution_count": null,
   "metadata": {},
   "outputs": [],
   "source": [
    "of"
   ]
  },
  {
   "cell_type": "code",
   "execution_count": null,
   "metadata": {},
   "outputs": [],
   "source": [
    "trials[trials==1] = rand_p(tmp, p=2, F=0.5)"
   ]
  },
  {
   "cell_type": "code",
   "execution_count": null,
   "metadata": {},
   "outputs": [],
   "source": [
    "trials"
   ]
  },
  {
   "cell_type": "code",
   "execution_count": null,
   "metadata": {},
   "outputs": [],
   "source": [
    "tmp[choices[0]]"
   ]
  },
  {
   "cell_type": "code",
   "execution_count": null,
   "metadata": {},
   "outputs": [],
   "source": [
    "for odd in range(1, len(choices), 2):\n",
    "    print(odd)"
   ]
  },
  {
   "cell_type": "code",
   "execution_count": null,
   "metadata": {},
   "outputs": [],
   "source": [
    "d = 0\n",
    "for idiff in range(1, len(choices), 2):\n",
    "    d += 0.1*(tmp[choices[idiff]]-tmp[choices[idiff+1]])\n"
   ]
  },
  {
   "cell_type": "code",
   "execution_count": null,
   "metadata": {},
   "outputs": [],
   "source": [
    "d"
   ]
  },
  {
   "cell_type": "code",
   "execution_count": null,
   "metadata": {},
   "outputs": [],
   "source": [
    "tmp[choices[1],:]-tmp[choices[2],:], 0.1*(tmp[choices[1],:]-tmp[choices[2],:])"
   ]
  },
  {
   "cell_type": "code",
   "execution_count": null,
   "metadata": {},
   "outputs": [],
   "source": [
    "tmp[choices[0],:] + 0.1*(tmp[choices[1],:]-tmp[choices[2],:])"
   ]
  },
  {
   "cell_type": "code",
   "execution_count": null,
   "metadata": {},
   "outputs": [],
   "source": [
    "idxs = np.ma.masked_where(pop < -10., pop)\n",
    "idxs"
   ]
  },
  {
   "cell_type": "code",
   "execution_count": null,
   "metadata": {},
   "outputs": [],
   "source": [
    "pop[[idxs.tolist]] = -5."
   ]
  },
  {
   "cell_type": "code",
   "execution_count": null,
   "metadata": {},
   "outputs": [],
   "source": [
    "pop"
   ]
  }
 ],
 "metadata": {
  "kernelspec": {
   "display_name": "Python 3",
   "language": "python",
   "name": "python3"
  },
  "language_info": {
   "codemirror_mode": {
    "name": "ipython",
    "version": 3
   },
   "file_extension": ".py",
   "mimetype": "text/x-python",
   "name": "python",
   "nbconvert_exporter": "python",
   "pygments_lexer": "ipython3",
   "version": "3.6.2"
  }
 },
 "nbformat": 4,
 "nbformat_minor": 2
}
