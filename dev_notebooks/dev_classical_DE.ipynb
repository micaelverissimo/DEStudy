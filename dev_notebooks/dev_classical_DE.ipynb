{
 "cells": [
  {
   "cell_type": "code",
   "execution_count": 1,
   "metadata": {},
   "outputs": [],
   "source": [
    "import numpy as np"
   ]
  },
  {
   "cell_type": "code",
   "execution_count": 20,
   "metadata": {},
   "outputs": [],
   "source": [
    "class classical_DE(object):\n",
    "    \n",
    "    def __init__(self, n_gens=10, n_pop=10, n_dim=5, F=0.7, Cr=0.8, bounds=[-100, 100]):\n",
    "        self.n_gens=n_gens\n",
    "        self.n_pop=n_pop\n",
    "        self.n_dim=n_dim\n",
    "        self.F=F\n",
    "        self.Cr=Cr\n",
    "        self.bounds=bounds\n",
    "        self\n",
    "        \n",
    "    def get_F(self):\n",
    "        return self.F\n",
    "    def get_Cr(self):\n",
    "        return self.Cr\n",
    "    def get_bounds(self):\n",
    "        return self.bounds\n",
    "    def get_population(self):\n",
    "        return self.population\n",
    "    \n",
    "    def gen_rand(self, n_size=1):\n",
    "        '''\n",
    "        This function return a n_size-dimensional random vector.\n",
    "        '''\n",
    "        return np.random.random(n_size)\n",
    "\n",
    "    def init_population(self, pop_size, dim=1, bounds=[-100,100]):\n",
    "        '''\n",
    "        This function initialize the population to be use in DE\n",
    "        Arguments:\n",
    "        pop_size - Number of individuals (there is no default value to this yet.).\n",
    "        dim - dimension of the search space (default is 1).\n",
    "        bounds - The inferior and superior limits respectively (default is [-100, 100]).\n",
    "        '''\n",
    "        return np.random.uniform(low=bounds[0], high=bounds[1], size=(pop_size, dim))\n",
    "\n",
    "    def keep_bounds(self, pop, bounds=[-10, 10]):\n",
    "        '''\n",
    "        This function keep the population in the seach space\n",
    "        Arguments:\n",
    "        pop - Population;\n",
    "        bounds - The inferior and superior limits respectively\n",
    "        '''\n",
    "        pop[pop<bounds[0]] = bounds[0]; pop[pop>bounds[1]] = bounds[1]\n",
    "        return pop\n",
    "\n",
    "    def rand_p(self, pop, p=1, F=0.7):\n",
    "        '''\n",
    "        This function is the rand/p mutation scheme, this is a generalization of rand/1 mutation scheme\n",
    "         from the first DE paper (Storn and Price).\n",
    "        Arguments:\n",
    "        pop - Population;\n",
    "        p - Number of diferences to be used;\n",
    "        F - The F scale factor for the diferences (default is 0.7);\n",
    "        '''\n",
    "\n",
    "        choices = np.random.choice(pop.shape[0], 1+2*p, replace=False)\n",
    "        diffs = 0\n",
    "        for idiff in range(1, len(choices), 2):\n",
    "            diffs += F*((pop[choices[idiff]]-pop[choices[idiff+1]]))\n",
    "        return pop[choices[0]] + diffs\n",
    "\n",
    "    def binomial_crossover(self, pop, Cr=0.5, mutation_type=rand_p, **kwargs):\n",
    "        '''\n",
    "        This function make the binomial crossover.\n",
    "        Arguments:\n",
    "        pop - Population;\n",
    "        mutation_type - mutation scheme (default is ran_p);\n",
    "        **kwargs - This is relative to the mutation scheme ex. rand_p needs p and F.\n",
    "        '''\n",
    "\n",
    "        K = np.random.choice(pop.shape[1])\n",
    "        for ind in range(tmp.shape[0]):\n",
    "            mutant = mutation_type(pop, **kwargs)\n",
    "            for jnd in range(tmp.shape[1]):\n",
    "                if jnd == K or gen_rand()<Cr:\n",
    "                    tmp[ind][jnd] = mutant[jnd]\n",
    "        return pop"
   ]
  },
  {
   "cell_type": "code",
   "execution_count": 21,
   "metadata": {},
   "outputs": [],
   "source": [
    "DE = classical_DE()"
   ]
  },
  {
   "cell_type": "code",
   "execution_count": 22,
   "metadata": {},
   "outputs": [
    {
     "data": {
      "text/plain": [
       "array([ 0.83295147])"
      ]
     },
     "execution_count": 22,
     "metadata": {},
     "output_type": "execute_result"
    }
   ],
   "source": [
    "DE.gen_rand()"
   ]
  },
  {
   "cell_type": "code",
   "execution_count": 15,
   "metadata": {},
   "outputs": [
    {
     "data": {
      "text/plain": [
       "(0.8, [-100, 100])"
      ]
     },
     "execution_count": 15,
     "metadata": {},
     "output_type": "execute_result"
    }
   ],
   "source": [
    "DE.get_Cr(), DE.get_bounds()"
   ]
  },
  {
   "cell_type": "code",
   "execution_count": 2,
   "metadata": {},
   "outputs": [],
   "source": [
    "def gen_rand(n_size=1):\n",
    "    '''\n",
    "    This function return a n_size-dimensional random vector.\n",
    "    '''\n",
    "    return np.random.random(n_size)\n",
    "\n",
    "def init_population(pop_size, dim=1, bounds=[-100,100]):\n",
    "    '''\n",
    "    This function initialize the population to be use in DE\n",
    "    Arguments:\n",
    "    pop_size - Number of individuals (there is no default value to this yet.).\n",
    "    dim - dimension of the search space (default is 1).\n",
    "    bounds - The inferior and superior limits respectively (default is [-100, 100]).\n",
    "    '''\n",
    "    return np.random.uniform(low=bounds[0], high=bounds[1], size=(pop_size, dim))\n",
    "\n",
    "def keep_bounds(pop, bounds=[-10, 10]):\n",
    "    '''\n",
    "    This function keep the population in the seach space\n",
    "    Arguments:\n",
    "    pop - Population;\n",
    "    bounds - The inferior and superior limits respectively\n",
    "    '''\n",
    "    pop[pop<bounds[0]] = bounds[0]; pop[pop>bounds[1]] = bounds[1]\n",
    "    return pop\n",
    "\n",
    "def rand_p(pop, p=1, F=0.7):\n",
    "    '''\n",
    "    This function is the rand/p mutation scheme, this is a generalization of rand/1 mutation scheme\n",
    "     from the first DE paper (Storn and Price).\n",
    "    Arguments:\n",
    "    pop - Population;\n",
    "    p - Number of diferences to be used;\n",
    "    F - The F scale factor for the diferences (default is 0.7);\n",
    "    '''\n",
    "    \n",
    "    choices = np.random.choice(pop.shape[0], 1+2*p, replace=False)\n",
    "    diffs = 0\n",
    "    for idiff in range(1, len(choices), 2):\n",
    "        diffs += F*((pop[choices[idiff]]-pop[choices[idiff+1]]))\n",
    "    return pop[choices[0]] + diffs\n",
    "\n",
    "def binomial_crossover(pop, Cr=0.5, mutation_type=rand_p, **kwargs):\n",
    "    '''\n",
    "    This function make the binomial crossover.\n",
    "    Arguments:\n",
    "    pop - Population;\n",
    "    mutation_type - mutation scheme (default is ran_p);\n",
    "    **kwargs - This is relative to the mutation scheme ex. rand_p needs p and F.\n",
    "    '''\n",
    "    \n",
    "    K = np.random.choice(pop.shape[1])\n",
    "    for ind in range(tmp.shape[0]):\n",
    "        mutant = mutation_type(pop, **kwargs)\n",
    "        for jnd in range(tmp.shape[1]):\n",
    "            if jnd == K or gen_rand()<Cr:\n",
    "                tmp[ind][jnd] = mutant[jnd]\n",
    "    return pop"
   ]
  },
  {
   "cell_type": "code",
   "execution_count": 3,
   "metadata": {},
   "outputs": [
    {
     "data": {
      "text/plain": [
       "array([[-3.71543271, -0.67394105, -1.93567198,  1.03331445, -1.73842802],\n",
       "       [-1.88235016, -4.81339779, -1.06004517, -4.02431873,  2.11036404],\n",
       "       [ 1.96754997,  0.22493664,  4.98045641, -1.12915174, -1.8126292 ],\n",
       "       [ 4.42917366, -3.91034278, -0.45718355,  3.27162976, -2.12711462],\n",
       "       [ 0.16739496,  2.19394215, -3.52260518, -4.15335773, -0.42086346],\n",
       "       [ 4.26588424,  4.2829178 , -0.36273087,  3.88594004,  4.7133616 ],\n",
       "       [ 3.83770622,  0.18715704,  2.20450095, -1.45123322,  2.7118068 ],\n",
       "       [-2.83514276, -3.42556345, -1.7003802 , -4.14503897,  3.24028342],\n",
       "       [-0.60887569, -0.91691128, -3.64248103, -2.61850748,  1.98154827],\n",
       "       [ 2.60040312,  4.22199377,  0.79892207, -0.72732844, -4.74445625]])"
      ]
     },
     "execution_count": 3,
     "metadata": {},
     "output_type": "execute_result"
    }
   ],
   "source": [
    "tmp = init_population(10, dim=5, bounds=[-5, 5])\n",
    "tmp"
   ]
  },
  {
   "cell_type": "code",
   "execution_count": 5,
   "metadata": {},
   "outputs": [
    {
     "data": {
      "text/plain": [
       "array([[-3.71543271, -0.67394105, -1.93567198,  1.03331445,  3.81287712],\n",
       "       [-1.88235016, -4.81339779, -1.06004517, -4.02431873,  3.10181432],\n",
       "       [ 1.96754997, -2.3813149 ,  4.98045641, -1.12915174, -0.63049037],\n",
       "       [ 4.42917366, -3.91034278, -0.45718355,  3.27162976,  7.7004335 ],\n",
       "       [ 0.16739496,  2.19394215, -3.52260518, -4.15335773,  5.3193249 ],\n",
       "       [ 4.26588424, -2.19969716, -0.36273087,  3.88594004,  0.87671282],\n",
       "       [ 3.83770622,  0.18715704,  2.20450095, -1.45123322,  6.33784081],\n",
       "       [-2.83514276, -3.42556345, -1.7003802 , -4.14503897,  0.20380777],\n",
       "       [-0.60887569, -0.91691128, -3.64248103, -2.61850748, -2.48187301],\n",
       "       [-3.49144982,  4.22199377,  0.79892207, -0.72732844,  3.51858568]])"
      ]
     },
     "execution_count": 5,
     "metadata": {},
     "output_type": "execute_result"
    }
   ],
   "source": [
    "binomial_crossover(tmp,Cr=0.2, mutation_type=rand_p, p=2, F=0.5)"
   ]
  },
  {
   "cell_type": "code",
   "execution_count": null,
   "metadata": {},
   "outputs": [],
   "source": [
    "rand_p(pop=tmp, p=1, F=0.2)"
   ]
  },
  {
   "cell_type": "code",
   "execution_count": null,
   "metadata": {},
   "outputs": [],
   "source": [
    "K = np.random.choice(tmp.shape[1])\n",
    "K"
   ]
  },
  {
   "cell_type": "code",
   "execution_count": null,
   "metadata": {},
   "outputs": [],
   "source": [
    "print(tmp)\n",
    "for ind in range(tmp.shape[0]):\n",
    "    mutant = rand_p(tmp, p=1, F=0.5)\n",
    "    for jnd in range(tmp.shape[1]):\n",
    "        if jnd == K or gen_rand()<0.6:\n",
    "            #print(tmp[ind][jnd])\n",
    "            tmp[ind][jnd] = mutant[jnd]\n",
    "tmp"
   ]
  },
  {
   "cell_type": "code",
   "execution_count": null,
   "metadata": {},
   "outputs": [],
   "source": [
    "of"
   ]
  },
  {
   "cell_type": "code",
   "execution_count": null,
   "metadata": {},
   "outputs": [],
   "source": [
    "trials[trials==1] = rand_p(tmp, p=2, F=0.5)"
   ]
  },
  {
   "cell_type": "code",
   "execution_count": null,
   "metadata": {},
   "outputs": [],
   "source": [
    "trials"
   ]
  },
  {
   "cell_type": "code",
   "execution_count": null,
   "metadata": {},
   "outputs": [],
   "source": [
    "tmp[choices[0]]"
   ]
  },
  {
   "cell_type": "code",
   "execution_count": null,
   "metadata": {},
   "outputs": [],
   "source": [
    "for odd in range(1, len(choices), 2):\n",
    "    print(odd)"
   ]
  },
  {
   "cell_type": "code",
   "execution_count": null,
   "metadata": {},
   "outputs": [],
   "source": [
    "d = 0\n",
    "for idiff in range(1, len(choices), 2):\n",
    "    d += 0.1*(tmp[choices[idiff]]-tmp[choices[idiff+1]])\n"
   ]
  },
  {
   "cell_type": "code",
   "execution_count": null,
   "metadata": {},
   "outputs": [],
   "source": [
    "d"
   ]
  },
  {
   "cell_type": "code",
   "execution_count": null,
   "metadata": {},
   "outputs": [],
   "source": [
    "tmp[choices[1],:]-tmp[choices[2],:], 0.1*(tmp[choices[1],:]-tmp[choices[2],:])"
   ]
  },
  {
   "cell_type": "code",
   "execution_count": null,
   "metadata": {},
   "outputs": [],
   "source": [
    "tmp[choices[0],:] + 0.1*(tmp[choices[1],:]-tmp[choices[2],:])"
   ]
  },
  {
   "cell_type": "code",
   "execution_count": null,
   "metadata": {},
   "outputs": [],
   "source": [
    "idxs = np.ma.masked_where(pop < -10., pop)\n",
    "idxs"
   ]
  },
  {
   "cell_type": "code",
   "execution_count": null,
   "metadata": {},
   "outputs": [],
   "source": [
    "pop[[idxs.tolist]] = -5."
   ]
  },
  {
   "cell_type": "code",
   "execution_count": null,
   "metadata": {},
   "outputs": [],
   "source": [
    "pop"
   ]
  }
 ],
 "metadata": {
  "kernelspec": {
   "display_name": "Python 3",
   "language": "python",
   "name": "python3"
  },
  "language_info": {
   "codemirror_mode": {
    "name": "ipython",
    "version": 3
   },
   "file_extension": ".py",
   "mimetype": "text/x-python",
   "name": "python",
   "nbconvert_exporter": "python",
   "pygments_lexer": "ipython3",
   "version": "3.6.2"
  }
 },
 "nbformat": 4,
 "nbformat_minor": 2
}
